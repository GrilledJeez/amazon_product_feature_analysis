{
 "cells": [
  {
   "cell_type": "markdown",
   "metadata": {},
   "source": [
    "'The ides of march are always at hand, and when the power hungry strike they strike the poorest of man.'\n",
    "\n",
    "### Agenda\n",
    "\n",
    "\n",
    "- Find Products in Amazon reviews\n",
    "- Put selected Amazon products through model\n",
    "\n",
    "- Build Graph that illustrates Product Feature Importance\n",
    "- Add Comments to code\n",
    "- Build Markdown\n",
    "- Plan Presentation Narrative\n",
    "- Build Slides\n",
    "\n",
    "- Potentially build scraper for google reviews\n",
    "- Put google reviews through tester"
   ]
  },
  {
   "cell_type": "code",
   "execution_count": null,
   "metadata": {},
   "outputs": [],
   "source": []
  }
 ],
 "metadata": {
  "kernelspec": {
   "display_name": "Python 3",
   "language": "python",
   "name": "python3"
  },
  "language_info": {
   "codemirror_mode": {
    "name": "ipython",
    "version": 3
   },
   "file_extension": ".py",
   "mimetype": "text/x-python",
   "name": "python",
   "nbconvert_exporter": "python",
   "pygments_lexer": "ipython3",
   "version": "3.7.6"
  }
 },
 "nbformat": 4,
 "nbformat_minor": 4
}
