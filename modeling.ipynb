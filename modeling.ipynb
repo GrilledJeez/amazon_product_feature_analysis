{
 "cells": [
  {
   "cell_type": "code",
   "execution_count": 22,
   "metadata": {},
   "outputs": [],
   "source": [
    "import pandas as pd\n",
    "import numpy as np\n",
    "\n",
    "\n",
    "import matplotlib.pyplot as plt\n",
    "plt.style.use ('ggplot')\n",
    "import seaborn as sns\n",
    "%matplotlib inline\n",
    "sns.set_style(style=\"whitegrid\")\n",
    "\n",
    "from sklearn.feature_extraction.text import TfidfVectorizer\n",
    "from sklearn.model_selection import train_test_split\n",
    "from sklearn.decomposition import NMF\n",
    "from sklearn.feature_extraction import text\n",
    "\n",
    "from bs4 import BeautifulSoup\n",
    "\n",
    "import nltk, string, contractions, random\n",
    "from nltk.stem.snowball import SnowballStemmer\n",
    "\n",
    "from gensim.corpora.dictionary import Dictionary\n",
    "from gensim.models.nmf import Nmf\n",
    "from gensim.models.coherencemodel import CoherenceModel\n",
    "\n",
    "from operator import itemgetter"
   ]
  },
  {
   "cell_type": "code",
   "execution_count": 99,
   "metadata": {},
   "outputs": [],
   "source": [
    "df1 = pd.read_csv('data/modeling_ready_microwave1')\n",
    "df2 = pd.read_csv('data/modeling_ready_microwave2')\n",
    "df3 = pd.read_csv('data/modeling_ready_microwave3')"
   ]
  },
  {
   "cell_type": "code",
   "execution_count": 100,
   "metadata": {},
   "outputs": [],
   "source": [
    "df1.dropna(inplace=True)\n",
    "df2.dropna(inplace=True)\n",
    "df3.dropna(inplace=True)"
   ]
  },
  {
   "cell_type": "code",
   "execution_count": 101,
   "metadata": {},
   "outputs": [],
   "source": [
    "df1.review_date = pd.to_datetime(df1.review_date)\n",
    "df2.review_date = pd.to_datetime(df2.review_date)\n",
    "df3.review_date = pd.to_datetime(df3.review_date)"
   ]
  },
  {
   "cell_type": "code",
   "execution_count": 26,
   "metadata": {},
   "outputs": [],
   "source": [
    "keep_words = ['not', 'ain', 'aren', \"aren't\", 'couldn', \"couldn't\", \n",
    "              'didn', \"didn't\", 'doesn', \"doesn't\", 'hadn', \"hadn't\", \n",
    "              'hasn', \"hasn't\", 'haven', \"haven't\", 'isn', \"isn't\", \n",
    "              'ma', 'mightn', \"mightn't\", 'mustn', \"mustn't\", 'needn',\n",
    "              \"needn't\", 'shan', \"shan't\", 'shouldn', \"shouldn't\", \n",
    "              'wasn', \"wasn't\", 'weren', \"weren't\", 'won', \"won't\", \n",
    "              'wouldn', \"wouldn't\", 'fire', 'off']\n",
    "test_stop_words = []\n",
    "review_stop_words = ['panasonic', 'really', 'husband', 'thanks', 'thank', 'ha', \n",
    "              'just', 'thing', 'did', 'nn', 'wa', 'yr', 'u', 'say', 'doe',\n",
    "              'mom', 'christmas', 'gift', 'got', 'way', 'le', 'daughter',\n",
    "              'e','not','love','good','bought','great microwave','micro',\n",
    "              'great oven','microwave','product','work great','nice work',\n",
    "              'work great use','work great love','feature work great',\n",
    "              'unit work great','oven work great','easy use love','old oven',\n",
    "              'old old','20 year old','unit', 'not', 'work', 'amazon', 'com',\n",
    "              'old', 'wife', 'highly', 'recommend', 'like', 'charm', '20', \n",
    "              'easy', 'oven', 'use', 'year', 'lot', 'pleased', 'happy', 'hope',\n",
    "              'review', 'buy', 'far', 'day', '1', '2', '3', '4', '5', '6', '7',\n",
    "              '8', '9', '10', '20', 'great', 'excellent','feature', 'nice', 'old']\n",
    "for _ in text.ENGLISH_STOP_WORDS:\n",
    "    if _ in keep_words:\n",
    "        pass\n",
    "    else:\n",
    "        review_stop_words.append(_)\n",
    "for _ in test_stop_words:\n",
    "    review_stop_words.append(_)   \n",
    "    \n",
    "w_tokenizer = nltk.tokenize.WhitespaceTokenizer()\n",
    "lemmatizer = nltk.stem.WordNetLemmatizer()    \n",
    "    \n",
    "def lemmatize_text(text):\n",
    "    return [lemmatizer.lemmatize(w) for w in w_tokenizer.tokenize(text)]\n",
    "\n",
    "def vectorize_this(df, max_features, min_df, max_df, ngram_max):\n",
    "    vectorizer = TfidfVectorizer(tokenizer = lemmatize_text,\n",
    "                             stop_words= review_stop_words,\n",
    "                             max_features = max_features,\n",
    "                             min_df = min_df,\n",
    "                             max_df =  max_df,\n",
    "                             ngram_range=(1, ngram_max)\n",
    "                            )\n",
    "    X = df['model_ready']\n",
    "    X = vectorizer.fit_transform(X)\n",
    "    return X, vectorizer"
   ]
  },
  {
   "cell_type": "code",
   "execution_count": 27,
   "metadata": {},
   "outputs": [],
   "source": [
    "topics1 = 7\n",
    "mindf1 = 2\n",
    "maxdf1 = .99\n",
    "grams1 = 3"
   ]
  },
  {
   "cell_type": "code",
   "execution_count": null,
   "metadata": {},
   "outputs": [],
   "source": [
    "# topics2 = 7\n",
    "# mindf2 = 2\n",
    "# maxdf2 = .99\n",
    "# grams2 = 3"
   ]
  },
  {
   "cell_type": "code",
   "execution_count": null,
   "metadata": {},
   "outputs": [],
   "source": [
    "# topics3 = 7\n",
    "# mindf3 = 2\n",
    "# maxdf3 = .99\n",
    "# grams3 = 3"
   ]
  },
  {
   "cell_type": "code",
   "execution_count": 28,
   "metadata": {},
   "outputs": [],
   "source": [
    "X1, vectorizer1 = vectorize_this(df1, 10000, mindf, maxdf, grams)"
   ]
  },
  {
   "cell_type": "code",
   "execution_count": null,
   "metadata": {},
   "outputs": [],
   "source": [
    "# X2, vectorizer2 = vectorize_this(df2, 10000, mindf, maxdf, grams)"
   ]
  },
  {
   "cell_type": "code",
   "execution_count": null,
   "metadata": {},
   "outputs": [],
   "source": [
    "# X3, vectorizer3 = vectorize_this(df3, 10000, mindf, maxdf, grams)"
   ]
  },
  {
   "cell_type": "code",
   "execution_count": 29,
   "metadata": {},
   "outputs": [],
   "source": [
    "def make_nmf(n_components, alpha, X):\n",
    "    nmf = NMF(\n",
    "            n_components=n_components,\n",
    "            init='nndsvd',\n",
    "            random_state=12345,\n",
    "            alpha = alpha\n",
    "            ).fit(X)\n",
    "\n",
    "    W = nmf.fit_transform(X)\n",
    "    H = nmf.components_\n",
    "    return nmf, W, H"
   ]
  },
  {
   "cell_type": "code",
   "execution_count": 227,
   "metadata": {},
   "outputs": [],
   "source": [
    "nmf1, W1, H1, = make_nmf(topics, .001, X1)"
   ]
  },
  {
   "cell_type": "code",
   "execution_count": null,
   "metadata": {},
   "outputs": [],
   "source": [
    "# nmf2, W2, H2, = make_nmf(topics, .1, X2)"
   ]
  },
  {
   "cell_type": "code",
   "execution_count": null,
   "metadata": {},
   "outputs": [],
   "source": [
    "# nmf3, W3, H3, = make_nmf(topics, .1, X3)"
   ]
  },
  {
   "cell_type": "code",
   "execution_count": 233,
   "metadata": {},
   "outputs": [],
   "source": [
    "def topic_keywords(nmf_model, vectorizer=vectorizer, n_words=10):\n",
    "\n",
    "    keywords = np.array(vectorizer.get_feature_names())\n",
    "    topic_keywords = []\n",
    "    for topic_weights in nmf_model.components_:\n",
    "        top_keyword_locs = (-topic_weights).argsort()[:n_words]\n",
    "        topic_keywords.append(keywords.take(top_keyword_locs))\n",
    "    return topic_keywords"
   ]
  },
  {
   "cell_type": "code",
   "execution_count": 236,
   "metadata": {},
   "outputs": [
    {
     "data": {
      "text/plain": [
       "array(['job month', 'market', 'transaction', 'transferred',\n",
       "       \"manufacturer's\", 'manufacturer warranty',\n",
       "       'manufacturer produce sell', 'manufacturer produce',\n",
       "       'manufacturer build', 'market new'], dtype='<U31')"
      ]
     },
     "execution_count": 236,
     "metadata": {},
     "output_type": "execute_result"
    }
   ],
   "source": [
    "np.array(vectorizer1.get_feature_names()).take(nmf1.components_[1].argsort()[:10])"
   ]
  },
  {
   "cell_type": "code",
   "execution_count": 215,
   "metadata": {},
   "outputs": [
    {
     "data": {
      "text/plain": [
       "1280"
      ]
     },
     "execution_count": 215,
     "metadata": {},
     "output_type": "execute_result"
    }
   ],
   "source": []
  },
  {
   "cell_type": "code",
   "execution_count": 211,
   "metadata": {},
   "outputs": [
    {
     "data": {
      "text/plain": [
       "'Shipped like the speed of light! Works great, very attractive in white, too. Yep, pretty good deal, too. Okey dokey.'"
      ]
     },
     "execution_count": 211,
     "metadata": {},
     "output_type": "execute_result"
    }
   ],
   "source": [
    "df1.review_body[1280]"
   ]
  },
  {
   "cell_type": "code",
   "execution_count": 237,
   "metadata": {},
   "outputs": [
    {
     "data": {
      "text/plain": [
       "[array(['time', 'popcorn', 'button', 'cooking', 'setting', 'minute', 'bag',\n",
       "        'used', 'second', 'long'], dtype='<U31'),\n",
       " array(['door', 'open', 'latch', 'close', 'door latch', 'push', 'button',\n",
       "        'door open', 'problem', 'hard'], dtype='<U31'),\n",
       " array(['lasted', 'month', 'working', 'warranty', 'service', 'repair',\n",
       "        'died', 'new', 'model', 'purchased'], dtype='<U31'),\n",
       " array(['price', 'large', 'fit', 'size', 'big', 'space', 'counter', 'need',\n",
       "        'kitchen', 'needed'], dtype='<U31'),\n",
       " array(['power', 'level', 'power level', 'watt', 'inverter', '1250',\n",
       "        '1250 watt', 'setting', 'power setting', 'watt power'],\n",
       "       dtype='<U31'),\n",
       " array(['sensor', 'reheat', 'sensor reheat', 'food', 'defrost', 'function',\n",
       "        'button', 'reheat function', 'sensor cook', 'used'], dtype='<U31'),\n",
       " array(['cook', 'food', 'heat', 'evenly', 'fast', 'quickly', 'cook food',\n",
       "        'cook fast', 'heat food', 'powerful'], dtype='<U31')]"
      ]
     },
     "execution_count": 237,
     "metadata": {},
     "output_type": "execute_result"
    }
   ],
   "source": [
    "topic_keywords1"
   ]
  },
  {
   "cell_type": "code",
   "execution_count": 120,
   "metadata": {},
   "outputs": [
    {
     "data": {
      "text/plain": [
       "((1848, 7), (7, 8511))"
      ]
     },
     "execution_count": 120,
     "metadata": {},
     "output_type": "execute_result"
    }
   ],
   "source": [
    "W1.shape, H1.shape"
   ]
  },
  {
   "cell_type": "code",
   "execution_count": 117,
   "metadata": {},
   "outputs": [
    {
     "data": {
      "text/plain": [
       "(7, 8511)"
      ]
     },
     "execution_count": 117,
     "metadata": {},
     "output_type": "execute_result"
    }
   ],
   "source": [
    "nmf1.components_.shape"
   ]
  },
  {
   "cell_type": "code",
   "execution_count": 235,
   "metadata": {},
   "outputs": [],
   "source": [
    "topic_keywords1 = topic_keywords(nmf1, vectorizer1)        "
   ]
  },
  {
   "cell_type": "code",
   "execution_count": null,
   "metadata": {},
   "outputs": [],
   "source": [
    "# topic_keywords2 = topic_keywords(vectorizer2, nmf2)        "
   ]
  },
  {
   "cell_type": "code",
   "execution_count": null,
   "metadata": {},
   "outputs": [],
   "source": [
    "# topic_keywords3 = topic_keywords(vectorizer3, nmf3)        "
   ]
  },
  {
   "cell_type": "code",
   "execution_count": 35,
   "metadata": {},
   "outputs": [
    {
     "data": {
      "text/plain": [
       "[array(['time', 'popcorn', 'button', 'cooking', 'setting', 'minute', 'bag',\n",
       "        'used', 'second', 'long'], dtype='<U31'),\n",
       " array(['door', 'open', 'latch', 'close', 'door latch', 'push', 'button',\n",
       "        'door open', 'problem', 'hard'], dtype='<U31'),\n",
       " array(['lasted', 'month', 'working', 'warranty', 'service', 'repair',\n",
       "        'died', 'new', 'model', 'purchased'], dtype='<U31'),\n",
       " array(['price', 'large', 'fit', 'size', 'big', 'space', 'counter', 'need',\n",
       "        'kitchen', 'needed'], dtype='<U31'),\n",
       " array(['power', 'level', 'power level', 'watt', 'inverter', '1250',\n",
       "        '1250 watt', 'setting', 'power setting', 'watt power'],\n",
       "       dtype='<U31'),\n",
       " array(['sensor', 'reheat', 'sensor reheat', 'food', 'defrost', 'function',\n",
       "        'button', 'reheat function', 'sensor cook', 'used'], dtype='<U31'),\n",
       " array(['cook', 'food', 'heat', 'evenly', 'fast', 'quickly', 'cook food',\n",
       "        'cook fast', 'heat food', 'powerful'], dtype='<U31')]"
      ]
     },
     "execution_count": 35,
     "metadata": {},
     "output_type": "execute_result"
    }
   ],
   "source": [
    "topic_keywords1"
   ]
  },
  {
   "cell_type": "code",
   "execution_count": 36,
   "metadata": {},
   "outputs": [],
   "source": [
    "# def topic_featuring(X, topic_keywords, n_components=10, n_words=10):\n",
    "    \n",
    "#     nmf, W, H = make_nmf(n_components, .1, X)\n",
    "    \n",
    "#     # Topic - Keywords Dataframe\n",
    "#     df_topic_keywords = pd.DataFrame(topic_keywords)\n",
    "#     df_topic_keywords.columns = ['Word '+str(i) for i in range(df_topic_keywords.shape[1])]\n",
    "#     df_topic_keywords.index = ['Topic '+str(i) for i in range(df_topic_keywords.shape[0])]\n",
    "\n",
    "#     Topics_theme = range(n_components)\n",
    "#     df_topic_keywords['topic_theme'] = Topics_theme\n",
    "#     df_topic_keywords.set_index('topic_theme', inplace=True)\n",
    "#     return df_topic_keywords.T"
   ]
  },
  {
   "cell_type": "code",
   "execution_count": 37,
   "metadata": {
    "scrolled": true
   },
   "outputs": [
    {
     "data": {
      "text/html": [
       "<div>\n",
       "<style scoped>\n",
       "    .dataframe tbody tr th:only-of-type {\n",
       "        vertical-align: middle;\n",
       "    }\n",
       "\n",
       "    .dataframe tbody tr th {\n",
       "        vertical-align: top;\n",
       "    }\n",
       "\n",
       "    .dataframe thead th {\n",
       "        text-align: right;\n",
       "    }\n",
       "</style>\n",
       "<table border=\"1\" class=\"dataframe\">\n",
       "  <thead>\n",
       "    <tr style=\"text-align: right;\">\n",
       "      <th>topic_theme</th>\n",
       "      <th>0</th>\n",
       "      <th>1</th>\n",
       "      <th>2</th>\n",
       "      <th>3</th>\n",
       "      <th>4</th>\n",
       "      <th>5</th>\n",
       "      <th>6</th>\n",
       "    </tr>\n",
       "  </thead>\n",
       "  <tbody>\n",
       "    <tr>\n",
       "      <th>Word 0</th>\n",
       "      <td>time</td>\n",
       "      <td>door</td>\n",
       "      <td>lasted</td>\n",
       "      <td>price</td>\n",
       "      <td>power</td>\n",
       "      <td>sensor</td>\n",
       "      <td>cook</td>\n",
       "    </tr>\n",
       "    <tr>\n",
       "      <th>Word 1</th>\n",
       "      <td>popcorn</td>\n",
       "      <td>open</td>\n",
       "      <td>month</td>\n",
       "      <td>large</td>\n",
       "      <td>level</td>\n",
       "      <td>reheat</td>\n",
       "      <td>food</td>\n",
       "    </tr>\n",
       "    <tr>\n",
       "      <th>Word 2</th>\n",
       "      <td>button</td>\n",
       "      <td>latch</td>\n",
       "      <td>working</td>\n",
       "      <td>fit</td>\n",
       "      <td>power level</td>\n",
       "      <td>sensor reheat</td>\n",
       "      <td>heat</td>\n",
       "    </tr>\n",
       "    <tr>\n",
       "      <th>Word 3</th>\n",
       "      <td>cooking</td>\n",
       "      <td>close</td>\n",
       "      <td>warranty</td>\n",
       "      <td>size</td>\n",
       "      <td>watt</td>\n",
       "      <td>food</td>\n",
       "      <td>evenly</td>\n",
       "    </tr>\n",
       "    <tr>\n",
       "      <th>Word 4</th>\n",
       "      <td>setting</td>\n",
       "      <td>door latch</td>\n",
       "      <td>service</td>\n",
       "      <td>big</td>\n",
       "      <td>inverter</td>\n",
       "      <td>defrost</td>\n",
       "      <td>fast</td>\n",
       "    </tr>\n",
       "    <tr>\n",
       "      <th>Word 5</th>\n",
       "      <td>minute</td>\n",
       "      <td>push</td>\n",
       "      <td>repair</td>\n",
       "      <td>space</td>\n",
       "      <td>1250</td>\n",
       "      <td>function</td>\n",
       "      <td>quickly</td>\n",
       "    </tr>\n",
       "    <tr>\n",
       "      <th>Word 6</th>\n",
       "      <td>bag</td>\n",
       "      <td>button</td>\n",
       "      <td>died</td>\n",
       "      <td>counter</td>\n",
       "      <td>1250 watt</td>\n",
       "      <td>button</td>\n",
       "      <td>cook food</td>\n",
       "    </tr>\n",
       "    <tr>\n",
       "      <th>Word 7</th>\n",
       "      <td>used</td>\n",
       "      <td>door open</td>\n",
       "      <td>new</td>\n",
       "      <td>need</td>\n",
       "      <td>setting</td>\n",
       "      <td>reheat function</td>\n",
       "      <td>cook fast</td>\n",
       "    </tr>\n",
       "    <tr>\n",
       "      <th>Word 8</th>\n",
       "      <td>second</td>\n",
       "      <td>problem</td>\n",
       "      <td>model</td>\n",
       "      <td>kitchen</td>\n",
       "      <td>power setting</td>\n",
       "      <td>sensor cook</td>\n",
       "      <td>heat food</td>\n",
       "    </tr>\n",
       "    <tr>\n",
       "      <th>Word 9</th>\n",
       "      <td>long</td>\n",
       "      <td>hard</td>\n",
       "      <td>purchased</td>\n",
       "      <td>needed</td>\n",
       "      <td>watt power</td>\n",
       "      <td>used</td>\n",
       "      <td>powerful</td>\n",
       "    </tr>\n",
       "  </tbody>\n",
       "</table>\n",
       "</div>"
      ],
      "text/plain": [
       "topic_theme        0           1          2        3              4  \\\n",
       "Word 0          time        door     lasted    price          power   \n",
       "Word 1       popcorn        open      month    large          level   \n",
       "Word 2        button       latch    working      fit    power level   \n",
       "Word 3       cooking       close   warranty     size           watt   \n",
       "Word 4       setting  door latch    service      big       inverter   \n",
       "Word 5        minute        push     repair    space           1250   \n",
       "Word 6           bag      button       died  counter      1250 watt   \n",
       "Word 7          used   door open        new     need        setting   \n",
       "Word 8        second     problem      model  kitchen  power setting   \n",
       "Word 9          long        hard  purchased   needed     watt power   \n",
       "\n",
       "topic_theme                5          6  \n",
       "Word 0                sensor       cook  \n",
       "Word 1                reheat       food  \n",
       "Word 2         sensor reheat       heat  \n",
       "Word 3                  food     evenly  \n",
       "Word 4               defrost       fast  \n",
       "Word 5              function    quickly  \n",
       "Word 6                button  cook food  \n",
       "Word 7       reheat function  cook fast  \n",
       "Word 8           sensor cook  heat food  \n",
       "Word 9                  used   powerful  "
      ]
     },
     "execution_count": 37,
     "metadata": {},
     "output_type": "execute_result"
    }
   ],
   "source": [
    "# topic_featuring(X1, topic_keywords1, topics1)"
   ]
  },
  {
   "cell_type": "code",
   "execution_count": null,
   "metadata": {},
   "outputs": [],
   "source": [
    "# topic_featuring(X2, topic_keywords2, topics2)"
   ]
  },
  {
   "cell_type": "code",
   "execution_count": null,
   "metadata": {},
   "outputs": [],
   "source": [
    "# topic_featuring(X3, topic_keywords3, topics3)"
   ]
  },
  {
   "cell_type": "code",
   "execution_count": 55,
   "metadata": {},
   "outputs": [],
   "source": [
    "def df_featurizer(df, topic_keywords, topic_labels=None, n_components=10, column_names_known = 'n'):\n",
    "\n",
    "    # Topic - Keywords Dataframe\n",
    "    df_topic_keywords = pd.DataFrame(topic_keywords)\n",
    "    df_topic_keywords.columns = ['Word '+str(i) for i in range(df_topic_keywords.shape[1])]\n",
    "    df_topic_keywords.index = ['Topic '+str(i) for i in range(df_topic_keywords.shape[0])]\n",
    "    \n",
    "    if column_names_known == 'n':\n",
    "        Topics_theme = range(n_components)\n",
    "    elif column_names_known == 'Y':\n",
    "        Topics_theme = topic_labels\n",
    "    df_topic_keywords['topic_theme'] = Topics_theme\n",
    "    df_topic_keywords.set_index('topic_theme', inplace=True)\n",
    "    return df_topic_keywords.T"
   ]
  },
  {
   "cell_type": "code",
   "execution_count": 56,
   "metadata": {},
   "outputs": [
    {
     "data": {
      "text/html": [
       "<div>\n",
       "<style scoped>\n",
       "    .dataframe tbody tr th:only-of-type {\n",
       "        vertical-align: middle;\n",
       "    }\n",
       "\n",
       "    .dataframe tbody tr th {\n",
       "        vertical-align: top;\n",
       "    }\n",
       "\n",
       "    .dataframe thead th {\n",
       "        text-align: right;\n",
       "    }\n",
       "</style>\n",
       "<table border=\"1\" class=\"dataframe\">\n",
       "  <thead>\n",
       "    <tr style=\"text-align: right;\">\n",
       "      <th>topic_theme</th>\n",
       "      <th>0</th>\n",
       "      <th>1</th>\n",
       "      <th>2</th>\n",
       "      <th>3</th>\n",
       "      <th>4</th>\n",
       "      <th>5</th>\n",
       "      <th>6</th>\n",
       "    </tr>\n",
       "  </thead>\n",
       "  <tbody>\n",
       "    <tr>\n",
       "      <th>Word 0</th>\n",
       "      <td>time</td>\n",
       "      <td>door</td>\n",
       "      <td>lasted</td>\n",
       "      <td>price</td>\n",
       "      <td>power</td>\n",
       "      <td>sensor</td>\n",
       "      <td>cook</td>\n",
       "    </tr>\n",
       "    <tr>\n",
       "      <th>Word 1</th>\n",
       "      <td>popcorn</td>\n",
       "      <td>open</td>\n",
       "      <td>month</td>\n",
       "      <td>large</td>\n",
       "      <td>level</td>\n",
       "      <td>reheat</td>\n",
       "      <td>food</td>\n",
       "    </tr>\n",
       "    <tr>\n",
       "      <th>Word 2</th>\n",
       "      <td>button</td>\n",
       "      <td>latch</td>\n",
       "      <td>working</td>\n",
       "      <td>fit</td>\n",
       "      <td>power level</td>\n",
       "      <td>sensor reheat</td>\n",
       "      <td>heat</td>\n",
       "    </tr>\n",
       "    <tr>\n",
       "      <th>Word 3</th>\n",
       "      <td>cooking</td>\n",
       "      <td>close</td>\n",
       "      <td>warranty</td>\n",
       "      <td>size</td>\n",
       "      <td>watt</td>\n",
       "      <td>food</td>\n",
       "      <td>evenly</td>\n",
       "    </tr>\n",
       "    <tr>\n",
       "      <th>Word 4</th>\n",
       "      <td>setting</td>\n",
       "      <td>door latch</td>\n",
       "      <td>service</td>\n",
       "      <td>big</td>\n",
       "      <td>inverter</td>\n",
       "      <td>defrost</td>\n",
       "      <td>fast</td>\n",
       "    </tr>\n",
       "    <tr>\n",
       "      <th>Word 5</th>\n",
       "      <td>minute</td>\n",
       "      <td>push</td>\n",
       "      <td>repair</td>\n",
       "      <td>space</td>\n",
       "      <td>1250</td>\n",
       "      <td>function</td>\n",
       "      <td>quickly</td>\n",
       "    </tr>\n",
       "    <tr>\n",
       "      <th>Word 6</th>\n",
       "      <td>bag</td>\n",
       "      <td>button</td>\n",
       "      <td>died</td>\n",
       "      <td>counter</td>\n",
       "      <td>1250 watt</td>\n",
       "      <td>button</td>\n",
       "      <td>cook food</td>\n",
       "    </tr>\n",
       "    <tr>\n",
       "      <th>Word 7</th>\n",
       "      <td>used</td>\n",
       "      <td>door open</td>\n",
       "      <td>new</td>\n",
       "      <td>need</td>\n",
       "      <td>setting</td>\n",
       "      <td>reheat function</td>\n",
       "      <td>cook fast</td>\n",
       "    </tr>\n",
       "    <tr>\n",
       "      <th>Word 8</th>\n",
       "      <td>second</td>\n",
       "      <td>problem</td>\n",
       "      <td>model</td>\n",
       "      <td>kitchen</td>\n",
       "      <td>power setting</td>\n",
       "      <td>sensor cook</td>\n",
       "      <td>heat food</td>\n",
       "    </tr>\n",
       "    <tr>\n",
       "      <th>Word 9</th>\n",
       "      <td>long</td>\n",
       "      <td>hard</td>\n",
       "      <td>purchased</td>\n",
       "      <td>needed</td>\n",
       "      <td>watt power</td>\n",
       "      <td>used</td>\n",
       "      <td>powerful</td>\n",
       "    </tr>\n",
       "  </tbody>\n",
       "</table>\n",
       "</div>"
      ],
      "text/plain": [
       "topic_theme        0           1          2        3              4  \\\n",
       "Word 0          time        door     lasted    price          power   \n",
       "Word 1       popcorn        open      month    large          level   \n",
       "Word 2        button       latch    working      fit    power level   \n",
       "Word 3       cooking       close   warranty     size           watt   \n",
       "Word 4       setting  door latch    service      big       inverter   \n",
       "Word 5        minute        push     repair    space           1250   \n",
       "Word 6           bag      button       died  counter      1250 watt   \n",
       "Word 7          used   door open        new     need        setting   \n",
       "Word 8        second     problem      model  kitchen  power setting   \n",
       "Word 9          long        hard  purchased   needed     watt power   \n",
       "\n",
       "topic_theme                5          6  \n",
       "Word 0                sensor       cook  \n",
       "Word 1                reheat       food  \n",
       "Word 2         sensor reheat       heat  \n",
       "Word 3                  food     evenly  \n",
       "Word 4               defrost       fast  \n",
       "Word 5              function    quickly  \n",
       "Word 6                button  cook food  \n",
       "Word 7       reheat function  cook fast  \n",
       "Word 8           sensor cook  heat food  \n",
       "Word 9                  used   powerful  "
      ]
     },
     "execution_count": 56,
     "metadata": {},
     "output_type": "execute_result"
    }
   ],
   "source": [
    "df_featurizer(df1, topic_keywords1, n_components=topics1)"
   ]
  },
  {
   "cell_type": "code",
   "execution_count": null,
   "metadata": {},
   "outputs": [],
   "source": [
    "# nmf_featurizer(df2, max_df=maxdf2, ngram_max=grams2, n_components=topics2)"
   ]
  },
  {
   "cell_type": "code",
   "execution_count": null,
   "metadata": {},
   "outputs": [],
   "source": [
    "# nmf_featurizer(df3, max_df=maxdf3, ngram_max=grams3, n_components=topics3)"
   ]
  },
  {
   "cell_type": "code",
   "execution_count": 238,
   "metadata": {},
   "outputs": [
    {
     "data": {
      "text/plain": [
       "array([\"'11\", \"'enjoy\", \"'enjoy meal'\", ..., 'zapped', 'zero',\n",
       "       'zero star'], dtype='<U31')"
      ]
     },
     "execution_count": 238,
     "metadata": {},
     "output_type": "execute_result"
    }
   ],
   "source": [
    "vocabulary1 = np.array(vectorizer1.get_feature_names())\n",
    "vocabulary1"
   ]
  },
  {
   "cell_type": "code",
   "execution_count": null,
   "metadata": {},
   "outputs": [],
   "source": [
    "# vocabulary2 = np.array(vectorizer2.get_feature_names())"
   ]
  },
  {
   "cell_type": "code",
   "execution_count": null,
   "metadata": {},
   "outputs": [],
   "source": [
    "# vocabulary3 = np.array(vectorizer3.get_feature_names())"
   ]
  },
  {
   "cell_type": "code",
   "execution_count": 46,
   "metadata": {},
   "outputs": [],
   "source": [
    "def label_topics(H, vocabulary):\n",
    "    '''\n",
    "    Print the most influential words of each latent topic, and prompt the user\n",
    "    to label each topic. The user should use their humanness to figure out what\n",
    "    each latent topic is capturing.\n",
    "    '''\n",
    "    topic_labels = []\n",
    "    for i, row in enumerate(H):\n",
    "        top_five = np.argsort(row)[::-1][:12]\n",
    "        print('topic', i)\n",
    "        print('-->', ' '.join(vocabulary[top_five]))\n",
    "        label = input('please label this topic: ')\n",
    "        topic_labels.append(label)\n",
    "        print()\n",
    "    return topic_labels"
   ]
  },
  {
   "cell_type": "code",
   "execution_count": 239,
   "metadata": {},
   "outputs": [
    {
     "name": "stdout",
     "output_type": "stream",
     "text": [
      "topic 0\n",
      "--> time popcorn button cooking setting minute bag used second long pop popcorn setting\n"
     ]
    },
    {
     "ename": "KeyboardInterrupt",
     "evalue": "",
     "output_type": "error",
     "traceback": [
      "\u001b[0;31m---------------------------------------------------------------------------\u001b[0m",
      "\u001b[0;31mKeyboardInterrupt\u001b[0m                         Traceback (most recent call last)",
      "\u001b[0;32m~/anaconda3/lib/python3.7/site-packages/ipykernel/kernelbase.py\u001b[0m in \u001b[0;36m_input_request\u001b[0;34m(self, prompt, ident, parent, password)\u001b[0m\n\u001b[1;32m    883\u001b[0m             \u001b[0;32mtry\u001b[0m\u001b[0;34m:\u001b[0m\u001b[0;34m\u001b[0m\u001b[0;34m\u001b[0m\u001b[0m\n\u001b[0;32m--> 884\u001b[0;31m                 \u001b[0mident\u001b[0m\u001b[0;34m,\u001b[0m \u001b[0mreply\u001b[0m \u001b[0;34m=\u001b[0m \u001b[0mself\u001b[0m\u001b[0;34m.\u001b[0m\u001b[0msession\u001b[0m\u001b[0;34m.\u001b[0m\u001b[0mrecv\u001b[0m\u001b[0;34m(\u001b[0m\u001b[0mself\u001b[0m\u001b[0;34m.\u001b[0m\u001b[0mstdin_socket\u001b[0m\u001b[0;34m,\u001b[0m \u001b[0;36m0\u001b[0m\u001b[0;34m)\u001b[0m\u001b[0;34m\u001b[0m\u001b[0;34m\u001b[0m\u001b[0m\n\u001b[0m\u001b[1;32m    885\u001b[0m             \u001b[0;32mexcept\u001b[0m \u001b[0mException\u001b[0m\u001b[0;34m:\u001b[0m\u001b[0;34m\u001b[0m\u001b[0;34m\u001b[0m\u001b[0m\n",
      "\u001b[0;32m~/anaconda3/lib/python3.7/site-packages/jupyter_client/session.py\u001b[0m in \u001b[0;36mrecv\u001b[0;34m(self, socket, mode, content, copy)\u001b[0m\n\u001b[1;32m    802\u001b[0m         \u001b[0;32mtry\u001b[0m\u001b[0;34m:\u001b[0m\u001b[0;34m\u001b[0m\u001b[0;34m\u001b[0m\u001b[0m\n\u001b[0;32m--> 803\u001b[0;31m             \u001b[0mmsg_list\u001b[0m \u001b[0;34m=\u001b[0m \u001b[0msocket\u001b[0m\u001b[0;34m.\u001b[0m\u001b[0mrecv_multipart\u001b[0m\u001b[0;34m(\u001b[0m\u001b[0mmode\u001b[0m\u001b[0;34m,\u001b[0m \u001b[0mcopy\u001b[0m\u001b[0;34m=\u001b[0m\u001b[0mcopy\u001b[0m\u001b[0;34m)\u001b[0m\u001b[0;34m\u001b[0m\u001b[0;34m\u001b[0m\u001b[0m\n\u001b[0m\u001b[1;32m    804\u001b[0m         \u001b[0;32mexcept\u001b[0m \u001b[0mzmq\u001b[0m\u001b[0;34m.\u001b[0m\u001b[0mZMQError\u001b[0m \u001b[0;32mas\u001b[0m \u001b[0me\u001b[0m\u001b[0;34m:\u001b[0m\u001b[0;34m\u001b[0m\u001b[0;34m\u001b[0m\u001b[0m\n",
      "\u001b[0;32m~/anaconda3/lib/python3.7/site-packages/zmq/sugar/socket.py\u001b[0m in \u001b[0;36mrecv_multipart\u001b[0;34m(self, flags, copy, track)\u001b[0m\n\u001b[1;32m    474\u001b[0m         \"\"\"\n\u001b[0;32m--> 475\u001b[0;31m         \u001b[0mparts\u001b[0m \u001b[0;34m=\u001b[0m \u001b[0;34m[\u001b[0m\u001b[0mself\u001b[0m\u001b[0;34m.\u001b[0m\u001b[0mrecv\u001b[0m\u001b[0;34m(\u001b[0m\u001b[0mflags\u001b[0m\u001b[0;34m,\u001b[0m \u001b[0mcopy\u001b[0m\u001b[0;34m=\u001b[0m\u001b[0mcopy\u001b[0m\u001b[0;34m,\u001b[0m \u001b[0mtrack\u001b[0m\u001b[0;34m=\u001b[0m\u001b[0mtrack\u001b[0m\u001b[0;34m)\u001b[0m\u001b[0;34m]\u001b[0m\u001b[0;34m\u001b[0m\u001b[0;34m\u001b[0m\u001b[0m\n\u001b[0m\u001b[1;32m    476\u001b[0m         \u001b[0;31m# have first part already, only loop while more to receive\u001b[0m\u001b[0;34m\u001b[0m\u001b[0;34m\u001b[0m\u001b[0;34m\u001b[0m\u001b[0m\n",
      "\u001b[0;32mzmq/backend/cython/socket.pyx\u001b[0m in \u001b[0;36mzmq.backend.cython.socket.Socket.recv\u001b[0;34m()\u001b[0m\n",
      "\u001b[0;32mzmq/backend/cython/socket.pyx\u001b[0m in \u001b[0;36mzmq.backend.cython.socket.Socket.recv\u001b[0;34m()\u001b[0m\n",
      "\u001b[0;32mzmq/backend/cython/socket.pyx\u001b[0m in \u001b[0;36mzmq.backend.cython.socket._recv_copy\u001b[0;34m()\u001b[0m\n",
      "\u001b[0;32m~/anaconda3/lib/python3.7/site-packages/zmq/backend/cython/checkrc.pxd\u001b[0m in \u001b[0;36mzmq.backend.cython.checkrc._check_rc\u001b[0;34m()\u001b[0m\n",
      "\u001b[0;31mKeyboardInterrupt\u001b[0m: ",
      "\nDuring handling of the above exception, another exception occurred:\n",
      "\u001b[0;31mKeyboardInterrupt\u001b[0m                         Traceback (most recent call last)",
      "\u001b[0;32m<ipython-input-239-ed825533bacf>\u001b[0m in \u001b[0;36m<module>\u001b[0;34m\u001b[0m\n\u001b[0;32m----> 1\u001b[0;31m \u001b[0mtopic_labels1\u001b[0m \u001b[0;34m=\u001b[0m \u001b[0mlabel_topics\u001b[0m\u001b[0;34m(\u001b[0m\u001b[0mH1\u001b[0m\u001b[0;34m,\u001b[0m\u001b[0mvocabulary1\u001b[0m\u001b[0;34m)\u001b[0m\u001b[0;34m\u001b[0m\u001b[0;34m\u001b[0m\u001b[0m\n\u001b[0m",
      "\u001b[0;32m<ipython-input-46-ddec26fcd3be>\u001b[0m in \u001b[0;36mlabel_topics\u001b[0;34m(H, vocabulary)\u001b[0m\n\u001b[1;32m     10\u001b[0m         \u001b[0mprint\u001b[0m\u001b[0;34m(\u001b[0m\u001b[0;34m'topic'\u001b[0m\u001b[0;34m,\u001b[0m \u001b[0mi\u001b[0m\u001b[0;34m)\u001b[0m\u001b[0;34m\u001b[0m\u001b[0;34m\u001b[0m\u001b[0m\n\u001b[1;32m     11\u001b[0m         \u001b[0mprint\u001b[0m\u001b[0;34m(\u001b[0m\u001b[0;34m'-->'\u001b[0m\u001b[0;34m,\u001b[0m \u001b[0;34m' '\u001b[0m\u001b[0;34m.\u001b[0m\u001b[0mjoin\u001b[0m\u001b[0;34m(\u001b[0m\u001b[0mvocabulary\u001b[0m\u001b[0;34m[\u001b[0m\u001b[0mtop_five\u001b[0m\u001b[0;34m]\u001b[0m\u001b[0;34m)\u001b[0m\u001b[0;34m)\u001b[0m\u001b[0;34m\u001b[0m\u001b[0;34m\u001b[0m\u001b[0m\n\u001b[0;32m---> 12\u001b[0;31m         \u001b[0mlabel\u001b[0m \u001b[0;34m=\u001b[0m \u001b[0minput\u001b[0m\u001b[0;34m(\u001b[0m\u001b[0;34m'please label this topic: '\u001b[0m\u001b[0;34m)\u001b[0m\u001b[0;34m\u001b[0m\u001b[0;34m\u001b[0m\u001b[0m\n\u001b[0m\u001b[1;32m     13\u001b[0m         \u001b[0mtopic_labels\u001b[0m\u001b[0;34m.\u001b[0m\u001b[0mappend\u001b[0m\u001b[0;34m(\u001b[0m\u001b[0mlabel\u001b[0m\u001b[0;34m)\u001b[0m\u001b[0;34m\u001b[0m\u001b[0;34m\u001b[0m\u001b[0m\n\u001b[1;32m     14\u001b[0m         \u001b[0mprint\u001b[0m\u001b[0;34m(\u001b[0m\u001b[0;34m)\u001b[0m\u001b[0;34m\u001b[0m\u001b[0;34m\u001b[0m\u001b[0m\n",
      "\u001b[0;32m~/anaconda3/lib/python3.7/site-packages/ipykernel/kernelbase.py\u001b[0m in \u001b[0;36mraw_input\u001b[0;34m(self, prompt)\u001b[0m\n\u001b[1;32m    857\u001b[0m             \u001b[0mself\u001b[0m\u001b[0;34m.\u001b[0m\u001b[0m_parent_ident\u001b[0m\u001b[0;34m,\u001b[0m\u001b[0;34m\u001b[0m\u001b[0;34m\u001b[0m\u001b[0m\n\u001b[1;32m    858\u001b[0m             \u001b[0mself\u001b[0m\u001b[0;34m.\u001b[0m\u001b[0m_parent_header\u001b[0m\u001b[0;34m,\u001b[0m\u001b[0;34m\u001b[0m\u001b[0;34m\u001b[0m\u001b[0m\n\u001b[0;32m--> 859\u001b[0;31m             \u001b[0mpassword\u001b[0m\u001b[0;34m=\u001b[0m\u001b[0;32mFalse\u001b[0m\u001b[0;34m,\u001b[0m\u001b[0;34m\u001b[0m\u001b[0;34m\u001b[0m\u001b[0m\n\u001b[0m\u001b[1;32m    860\u001b[0m         )\n\u001b[1;32m    861\u001b[0m \u001b[0;34m\u001b[0m\u001b[0m\n",
      "\u001b[0;32m~/anaconda3/lib/python3.7/site-packages/ipykernel/kernelbase.py\u001b[0m in \u001b[0;36m_input_request\u001b[0;34m(self, prompt, ident, parent, password)\u001b[0m\n\u001b[1;32m    887\u001b[0m             \u001b[0;32mexcept\u001b[0m \u001b[0mKeyboardInterrupt\u001b[0m\u001b[0;34m:\u001b[0m\u001b[0;34m\u001b[0m\u001b[0;34m\u001b[0m\u001b[0m\n\u001b[1;32m    888\u001b[0m                 \u001b[0;31m# re-raise KeyboardInterrupt, to truncate traceback\u001b[0m\u001b[0;34m\u001b[0m\u001b[0;34m\u001b[0m\u001b[0;34m\u001b[0m\u001b[0m\n\u001b[0;32m--> 889\u001b[0;31m                 \u001b[0;32mraise\u001b[0m \u001b[0mKeyboardInterrupt\u001b[0m\u001b[0;34m\u001b[0m\u001b[0;34m\u001b[0m\u001b[0m\n\u001b[0m\u001b[1;32m    890\u001b[0m             \u001b[0;32melse\u001b[0m\u001b[0;34m:\u001b[0m\u001b[0;34m\u001b[0m\u001b[0;34m\u001b[0m\u001b[0m\n\u001b[1;32m    891\u001b[0m                 \u001b[0;32mbreak\u001b[0m\u001b[0;34m\u001b[0m\u001b[0;34m\u001b[0m\u001b[0m\n",
      "\u001b[0;31mKeyboardInterrupt\u001b[0m: "
     ]
    }
   ],
   "source": [
    "topic_labels1 = label_topics(H1,vocabulary1)"
   ]
  },
  {
   "cell_type": "code",
   "execution_count": null,
   "metadata": {},
   "outputs": [],
   "source": [
    "# topic_labels2 = label_topics(H2,vocabulary2)"
   ]
  },
  {
   "cell_type": "code",
   "execution_count": null,
   "metadata": {},
   "outputs": [],
   "source": [
    "# topic_labels3 = label_topics(H3,vocabulary3)"
   ]
  },
  {
   "cell_type": "code",
   "execution_count": 63,
   "metadata": {},
   "outputs": [
    {
     "data": {
      "text/html": [
       "<div>\n",
       "<style scoped>\n",
       "    .dataframe tbody tr th:only-of-type {\n",
       "        vertical-align: middle;\n",
       "    }\n",
       "\n",
       "    .dataframe tbody tr th {\n",
       "        vertical-align: top;\n",
       "    }\n",
       "\n",
       "    .dataframe thead th {\n",
       "        text-align: right;\n",
       "    }\n",
       "</style>\n",
       "<table border=\"1\" class=\"dataframe\">\n",
       "  <thead>\n",
       "    <tr style=\"text-align: right;\">\n",
       "      <th>topic_theme</th>\n",
       "      <th>popcorn</th>\n",
       "      <th>door</th>\n",
       "      <th>short lifespan</th>\n",
       "      <th>size</th>\n",
       "      <th>power</th>\n",
       "      <th>programmed functions</th>\n",
       "      <th>cooks fast and evenly</th>\n",
       "    </tr>\n",
       "  </thead>\n",
       "  <tbody>\n",
       "    <tr>\n",
       "      <th>Word 0</th>\n",
       "      <td>time</td>\n",
       "      <td>door</td>\n",
       "      <td>lasted</td>\n",
       "      <td>price</td>\n",
       "      <td>power</td>\n",
       "      <td>sensor</td>\n",
       "      <td>cook</td>\n",
       "    </tr>\n",
       "    <tr>\n",
       "      <th>Word 1</th>\n",
       "      <td>popcorn</td>\n",
       "      <td>open</td>\n",
       "      <td>month</td>\n",
       "      <td>large</td>\n",
       "      <td>level</td>\n",
       "      <td>reheat</td>\n",
       "      <td>food</td>\n",
       "    </tr>\n",
       "    <tr>\n",
       "      <th>Word 2</th>\n",
       "      <td>button</td>\n",
       "      <td>latch</td>\n",
       "      <td>working</td>\n",
       "      <td>fit</td>\n",
       "      <td>power level</td>\n",
       "      <td>sensor reheat</td>\n",
       "      <td>heat</td>\n",
       "    </tr>\n",
       "    <tr>\n",
       "      <th>Word 3</th>\n",
       "      <td>cooking</td>\n",
       "      <td>close</td>\n",
       "      <td>warranty</td>\n",
       "      <td>size</td>\n",
       "      <td>watt</td>\n",
       "      <td>food</td>\n",
       "      <td>evenly</td>\n",
       "    </tr>\n",
       "    <tr>\n",
       "      <th>Word 4</th>\n",
       "      <td>setting</td>\n",
       "      <td>door latch</td>\n",
       "      <td>service</td>\n",
       "      <td>big</td>\n",
       "      <td>inverter</td>\n",
       "      <td>defrost</td>\n",
       "      <td>fast</td>\n",
       "    </tr>\n",
       "    <tr>\n",
       "      <th>Word 5</th>\n",
       "      <td>minute</td>\n",
       "      <td>push</td>\n",
       "      <td>repair</td>\n",
       "      <td>space</td>\n",
       "      <td>1250</td>\n",
       "      <td>function</td>\n",
       "      <td>quickly</td>\n",
       "    </tr>\n",
       "    <tr>\n",
       "      <th>Word 6</th>\n",
       "      <td>bag</td>\n",
       "      <td>button</td>\n",
       "      <td>died</td>\n",
       "      <td>counter</td>\n",
       "      <td>1250 watt</td>\n",
       "      <td>button</td>\n",
       "      <td>cook food</td>\n",
       "    </tr>\n",
       "    <tr>\n",
       "      <th>Word 7</th>\n",
       "      <td>used</td>\n",
       "      <td>door open</td>\n",
       "      <td>new</td>\n",
       "      <td>need</td>\n",
       "      <td>setting</td>\n",
       "      <td>reheat function</td>\n",
       "      <td>cook fast</td>\n",
       "    </tr>\n",
       "    <tr>\n",
       "      <th>Word 8</th>\n",
       "      <td>second</td>\n",
       "      <td>problem</td>\n",
       "      <td>model</td>\n",
       "      <td>kitchen</td>\n",
       "      <td>power setting</td>\n",
       "      <td>sensor cook</td>\n",
       "      <td>heat food</td>\n",
       "    </tr>\n",
       "    <tr>\n",
       "      <th>Word 9</th>\n",
       "      <td>long</td>\n",
       "      <td>hard</td>\n",
       "      <td>purchased</td>\n",
       "      <td>needed</td>\n",
       "      <td>watt power</td>\n",
       "      <td>used</td>\n",
       "      <td>powerful</td>\n",
       "    </tr>\n",
       "  </tbody>\n",
       "</table>\n",
       "</div>"
      ],
      "text/plain": [
       "topic_theme  popcorn        door short lifespan     size          power  \\\n",
       "Word 0          time        door         lasted    price          power   \n",
       "Word 1       popcorn        open          month    large          level   \n",
       "Word 2        button       latch        working      fit    power level   \n",
       "Word 3       cooking       close       warranty     size           watt   \n",
       "Word 4       setting  door latch        service      big       inverter   \n",
       "Word 5        minute        push         repair    space           1250   \n",
       "Word 6           bag      button           died  counter      1250 watt   \n",
       "Word 7          used   door open            new     need        setting   \n",
       "Word 8        second     problem          model  kitchen  power setting   \n",
       "Word 9          long        hard      purchased   needed     watt power   \n",
       "\n",
       "topic_theme programmed functions cooks fast and evenly  \n",
       "Word 0                    sensor                  cook  \n",
       "Word 1                    reheat                  food  \n",
       "Word 2             sensor reheat                  heat  \n",
       "Word 3                      food                evenly  \n",
       "Word 4                   defrost                  fast  \n",
       "Word 5                  function               quickly  \n",
       "Word 6                    button             cook food  \n",
       "Word 7           reheat function             cook fast  \n",
       "Word 8               sensor cook             heat food  \n",
       "Word 9                      used              powerful  "
      ]
     },
     "execution_count": 63,
     "metadata": {},
     "output_type": "execute_result"
    }
   ],
   "source": [
    "df_featurizer(df1, topic_keywords1, topic_labels1, n_components=topics1, column_names_known = 'Y')"
   ]
  },
  {
   "cell_type": "code",
   "execution_count": null,
   "metadata": {},
   "outputs": [],
   "source": [
    "# df_featurizer(df2, topic_keywords2, topic_labels2, n_components=topics2, column_names_known = 'Y')"
   ]
  },
  {
   "cell_type": "code",
   "execution_count": null,
   "metadata": {},
   "outputs": [],
   "source": [
    "# df_featurizer(df3, topic_keywords3, topic_labels3, n_components=topics3, column_names_known = 'Y')"
   ]
  },
  {
   "cell_type": "code",
   "execution_count": 64,
   "metadata": {},
   "outputs": [],
   "source": [
    "def softmax(v, temperature=1.0):\n",
    "    '''\n",
    "    A heuristic to convert arbitrary positive values into probabilities.\n",
    "    See: https://en.wikipedia.org/wiki/Softmax_function\n",
    "    '''\n",
    "    expv = np.exp(v / temperature)\n",
    "    s = np.sum(expv)\n",
    "    return expv / s"
   ]
  },
  {
   "cell_type": "code",
   "execution_count": 65,
   "metadata": {},
   "outputs": [],
   "source": [
    "def analyze_reviews(W, topic_labels):\n",
    "    '''\n",
    "    Print an analysis of a single Amazon review, including the review ID\n",
    "    and a summary of which topics it represents. The topics are identified\n",
    "    via the hand-labels which were assigned by the user.\n",
    "    '''\n",
    "    topic_count = len(topic_labels)\n",
    "    topic_percentages = [[] for i in range(0, topic_count)]\n",
    "\n",
    "    for idx, i in enumerate(W):  \n",
    "        probs = softmax(W[idx], temperature=0.01)\n",
    "        topic_list_counter = 0\n",
    "        for prob, label in zip(probs, topic_labels):\n",
    "            topic_percentages[topic_list_counter].append(round(prob, 5))\n",
    "            topic_list_counter += 1\n",
    "        \n",
    "    return pd.DataFrame(dict(zip(topic_labels, topic_percentages)))"
   ]
  },
  {
   "cell_type": "code",
   "execution_count": 103,
   "metadata": {},
   "outputs": [],
   "source": [
    "top_df1 = analyze_reviews(W1, topic_labels1)"
   ]
  },
  {
   "cell_type": "code",
   "execution_count": null,
   "metadata": {},
   "outputs": [],
   "source": [
    "# top_df2 = analyze_reviews(W2, topic_labels2)"
   ]
  },
  {
   "cell_type": "code",
   "execution_count": null,
   "metadata": {},
   "outputs": [],
   "source": [
    "# top_df3 = analyze_reviews(W3, topic_labels3)"
   ]
  },
  {
   "cell_type": "code",
   "execution_count": 194,
   "metadata": {},
   "outputs": [
    {
     "data": {
      "text/html": [
       "<div>\n",
       "<style scoped>\n",
       "    .dataframe tbody tr th:only-of-type {\n",
       "        vertical-align: middle;\n",
       "    }\n",
       "\n",
       "    .dataframe tbody tr th {\n",
       "        vertical-align: top;\n",
       "    }\n",
       "\n",
       "    .dataframe thead th {\n",
       "        text-align: right;\n",
       "    }\n",
       "</style>\n",
       "<table border=\"1\" class=\"dataframe\">\n",
       "  <thead>\n",
       "    <tr style=\"text-align: right;\">\n",
       "      <th></th>\n",
       "      <th>programmed features</th>\n",
       "      <th>door</th>\n",
       "      <th>broke</th>\n",
       "      <th>size</th>\n",
       "      <th>power</th>\n",
       "      <th>cooks evenly</th>\n",
       "    </tr>\n",
       "  </thead>\n",
       "  <tbody>\n",
       "    <tr>\n",
       "      <th>0</th>\n",
       "      <td>0.00000</td>\n",
       "      <td>0.99988</td>\n",
       "      <td>0.00000</td>\n",
       "      <td>0.00000</td>\n",
       "      <td>0.00000</td>\n",
       "      <td>0.00000</td>\n",
       "    </tr>\n",
       "    <tr>\n",
       "      <th>1</th>\n",
       "      <td>0.00000</td>\n",
       "      <td>0.00000</td>\n",
       "      <td>0.00000</td>\n",
       "      <td>0.00000</td>\n",
       "      <td>0.00000</td>\n",
       "      <td>0.99999</td>\n",
       "    </tr>\n",
       "    <tr>\n",
       "      <th>2</th>\n",
       "      <td>0.00013</td>\n",
       "      <td>0.00013</td>\n",
       "      <td>0.00013</td>\n",
       "      <td>0.99912</td>\n",
       "      <td>0.00013</td>\n",
       "      <td>0.00021</td>\n",
       "    </tr>\n",
       "    <tr>\n",
       "      <th>3</th>\n",
       "      <td>0.01287</td>\n",
       "      <td>0.01287</td>\n",
       "      <td>0.91099</td>\n",
       "      <td>0.02409</td>\n",
       "      <td>0.01287</td>\n",
       "      <td>0.01287</td>\n",
       "    </tr>\n",
       "    <tr>\n",
       "      <th>4</th>\n",
       "      <td>0.00000</td>\n",
       "      <td>0.99998</td>\n",
       "      <td>0.00000</td>\n",
       "      <td>0.00000</td>\n",
       "      <td>0.00000</td>\n",
       "      <td>0.00001</td>\n",
       "    </tr>\n",
       "    <tr>\n",
       "      <th>...</th>\n",
       "      <td>...</td>\n",
       "      <td>...</td>\n",
       "      <td>...</td>\n",
       "      <td>...</td>\n",
       "      <td>...</td>\n",
       "      <td>...</td>\n",
       "    </tr>\n",
       "    <tr>\n",
       "      <th>1843</th>\n",
       "      <td>0.00856</td>\n",
       "      <td>0.00382</td>\n",
       "      <td>0.00382</td>\n",
       "      <td>0.67517</td>\n",
       "      <td>0.00426</td>\n",
       "      <td>0.10002</td>\n",
       "    </tr>\n",
       "    <tr>\n",
       "      <th>1844</th>\n",
       "      <td>0.00000</td>\n",
       "      <td>0.00000</td>\n",
       "      <td>0.00000</td>\n",
       "      <td>0.00000</td>\n",
       "      <td>0.00000</td>\n",
       "      <td>1.00000</td>\n",
       "    </tr>\n",
       "    <tr>\n",
       "      <th>1845</th>\n",
       "      <td>0.00005</td>\n",
       "      <td>0.00005</td>\n",
       "      <td>0.00005</td>\n",
       "      <td>0.00534</td>\n",
       "      <td>0.00005</td>\n",
       "      <td>0.98342</td>\n",
       "    </tr>\n",
       "    <tr>\n",
       "      <th>1846</th>\n",
       "      <td>0.00015</td>\n",
       "      <td>0.00015</td>\n",
       "      <td>0.00034</td>\n",
       "      <td>0.00015</td>\n",
       "      <td>0.00015</td>\n",
       "      <td>0.00016</td>\n",
       "    </tr>\n",
       "    <tr>\n",
       "      <th>1847</th>\n",
       "      <td>0.00018</td>\n",
       "      <td>0.00684</td>\n",
       "      <td>0.99080</td>\n",
       "      <td>0.00090</td>\n",
       "      <td>0.00036</td>\n",
       "      <td>0.00018</td>\n",
       "    </tr>\n",
       "  </tbody>\n",
       "</table>\n",
       "<p>1848 rows × 6 columns</p>\n",
       "</div>"
      ],
      "text/plain": [
       "      programmed features     door    broke     size    power  cooks evenly\n",
       "0                 0.00000  0.99988  0.00000  0.00000  0.00000       0.00000\n",
       "1                 0.00000  0.00000  0.00000  0.00000  0.00000       0.99999\n",
       "2                 0.00013  0.00013  0.00013  0.99912  0.00013       0.00021\n",
       "3                 0.01287  0.01287  0.91099  0.02409  0.01287       0.01287\n",
       "4                 0.00000  0.99998  0.00000  0.00000  0.00000       0.00001\n",
       "...                   ...      ...      ...      ...      ...           ...\n",
       "1843              0.00856  0.00382  0.00382  0.67517  0.00426       0.10002\n",
       "1844              0.00000  0.00000  0.00000  0.00000  0.00000       1.00000\n",
       "1845              0.00005  0.00005  0.00005  0.00534  0.00005       0.98342\n",
       "1846              0.00015  0.00015  0.00034  0.00015  0.00015       0.00016\n",
       "1847              0.00018  0.00684  0.99080  0.00090  0.00036       0.00018\n",
       "\n",
       "[1848 rows x 6 columns]"
      ]
     },
     "execution_count": 194,
     "metadata": {},
     "output_type": "execute_result"
    }
   ],
   "source": [
    "top_df1"
   ]
  },
  {
   "cell_type": "code",
   "execution_count": 68,
   "metadata": {},
   "outputs": [
    {
     "data": {
      "text/plain": [
       "popcorn                  0.00010\n",
       "door                     0.99988\n",
       "short lifespan           0.00000\n",
       "size                     0.00000\n",
       "power                    0.00000\n",
       "programmed functions     0.00000\n",
       "cooks fast and evenly    0.00000\n",
       "Name: 0, dtype: float64"
      ]
     },
     "execution_count": 68,
     "metadata": {},
     "output_type": "execute_result"
    }
   ],
   "source": [
    "top_df1.loc[0]"
   ]
  },
  {
   "cell_type": "code",
   "execution_count": 74,
   "metadata": {},
   "outputs": [],
   "source": [
    "def feature_score(top_df):    \n",
    "    feature_score = {}\n",
    "    for _ in range(len(top_df.columns)):\n",
    "        key = top_df.columns[_]\n",
    "        feature_score[key] = round(sum(top_df[key])/(len(top_df)),5)\n",
    "    return feature_score"
   ]
  },
  {
   "cell_type": "code",
   "execution_count": 77,
   "metadata": {},
   "outputs": [
    {
     "data": {
      "text/plain": [
       "[('size', 0.21387),\n",
       " ('short lifespan', 0.20912),\n",
       " ('door', 0.13818),\n",
       " ('cooks fast and evenly', 0.11958),\n",
       " ('popcorn', 0.11585),\n",
       " ('programmed functions', 0.10639),\n",
       " ('power', 0.09702)]"
      ]
     },
     "execution_count": 77,
     "metadata": {},
     "output_type": "execute_result"
    }
   ],
   "source": [
    "feature_score1 = feature_score(top_df1)\n",
    "sorted(feature_score1.items(), key= lambda x: x[1], reverse=True)"
   ]
  },
  {
   "cell_type": "code",
   "execution_count": null,
   "metadata": {},
   "outputs": [],
   "source": [
    "# feature_score2 = feature_score(top_df2)\n",
    "# sorted(feature_score2.items(), key= lambda x: x[1], reverse=True)"
   ]
  },
  {
   "cell_type": "code",
   "execution_count": null,
   "metadata": {},
   "outputs": [],
   "source": [
    "# feature_score3 = feature_score(top_df3)\n",
    "# sorted(feature_score3.items(), key= lambda x: x[1], reverse=True)"
   ]
  },
  {
   "cell_type": "code",
   "execution_count": 190,
   "metadata": {},
   "outputs": [],
   "source": [
    "topic_words_df1 = nmf_featurizer(df1, topic_keywords1, topic_labels1, column_names_known ='Y')\n",
    "# topic_words_df2 = nmf_featurizer(df2, topic_keywords2, topic_labels2, column_names_known ='Y')\n",
    "# topic_words_df3 = nmf_featurizer(df3, topic_keywords3, topic_labels3, column_names_known ='Y')\n"
   ]
  },
  {
   "cell_type": "code",
   "execution_count": 191,
   "metadata": {},
   "outputs": [
    {
     "data": {
      "text/html": [
       "<div>\n",
       "<style scoped>\n",
       "    .dataframe tbody tr th:only-of-type {\n",
       "        vertical-align: middle;\n",
       "    }\n",
       "\n",
       "    .dataframe tbody tr th {\n",
       "        vertical-align: top;\n",
       "    }\n",
       "\n",
       "    .dataframe thead th {\n",
       "        text-align: right;\n",
       "    }\n",
       "</style>\n",
       "<table border=\"1\" class=\"dataframe\">\n",
       "  <thead>\n",
       "    <tr style=\"text-align: right;\">\n",
       "      <th>topic_theme</th>\n",
       "      <th>programmed features</th>\n",
       "      <th>door</th>\n",
       "      <th>broke</th>\n",
       "      <th>size</th>\n",
       "      <th>power</th>\n",
       "      <th>programmed features</th>\n",
       "      <th>cooks evenly</th>\n",
       "    </tr>\n",
       "  </thead>\n",
       "  <tbody>\n",
       "    <tr>\n",
       "      <th>Word 0</th>\n",
       "      <td>time</td>\n",
       "      <td>door</td>\n",
       "      <td>lasted</td>\n",
       "      <td>price</td>\n",
       "      <td>power</td>\n",
       "      <td>sensor</td>\n",
       "      <td>cook</td>\n",
       "    </tr>\n",
       "    <tr>\n",
       "      <th>Word 1</th>\n",
       "      <td>popcorn</td>\n",
       "      <td>open</td>\n",
       "      <td>month</td>\n",
       "      <td>large</td>\n",
       "      <td>level</td>\n",
       "      <td>reheat</td>\n",
       "      <td>food</td>\n",
       "    </tr>\n",
       "    <tr>\n",
       "      <th>Word 2</th>\n",
       "      <td>button</td>\n",
       "      <td>latch</td>\n",
       "      <td>working</td>\n",
       "      <td>fit</td>\n",
       "      <td>power level</td>\n",
       "      <td>sensor reheat</td>\n",
       "      <td>heat</td>\n",
       "    </tr>\n",
       "    <tr>\n",
       "      <th>Word 3</th>\n",
       "      <td>cooking</td>\n",
       "      <td>close</td>\n",
       "      <td>warranty</td>\n",
       "      <td>size</td>\n",
       "      <td>watt</td>\n",
       "      <td>food</td>\n",
       "      <td>evenly</td>\n",
       "    </tr>\n",
       "    <tr>\n",
       "      <th>Word 4</th>\n",
       "      <td>setting</td>\n",
       "      <td>door latch</td>\n",
       "      <td>service</td>\n",
       "      <td>big</td>\n",
       "      <td>inverter</td>\n",
       "      <td>defrost</td>\n",
       "      <td>fast</td>\n",
       "    </tr>\n",
       "    <tr>\n",
       "      <th>Word 5</th>\n",
       "      <td>minute</td>\n",
       "      <td>push</td>\n",
       "      <td>repair</td>\n",
       "      <td>space</td>\n",
       "      <td>1250</td>\n",
       "      <td>function</td>\n",
       "      <td>quickly</td>\n",
       "    </tr>\n",
       "    <tr>\n",
       "      <th>Word 6</th>\n",
       "      <td>bag</td>\n",
       "      <td>button</td>\n",
       "      <td>died</td>\n",
       "      <td>counter</td>\n",
       "      <td>1250 watt</td>\n",
       "      <td>button</td>\n",
       "      <td>cook food</td>\n",
       "    </tr>\n",
       "    <tr>\n",
       "      <th>Word 7</th>\n",
       "      <td>used</td>\n",
       "      <td>door open</td>\n",
       "      <td>new</td>\n",
       "      <td>need</td>\n",
       "      <td>setting</td>\n",
       "      <td>reheat function</td>\n",
       "      <td>cook fast</td>\n",
       "    </tr>\n",
       "    <tr>\n",
       "      <th>Word 8</th>\n",
       "      <td>second</td>\n",
       "      <td>problem</td>\n",
       "      <td>model</td>\n",
       "      <td>kitchen</td>\n",
       "      <td>power setting</td>\n",
       "      <td>sensor cook</td>\n",
       "      <td>heat food</td>\n",
       "    </tr>\n",
       "    <tr>\n",
       "      <th>Word 9</th>\n",
       "      <td>long</td>\n",
       "      <td>hard</td>\n",
       "      <td>purchased</td>\n",
       "      <td>needed</td>\n",
       "      <td>watt power</td>\n",
       "      <td>used</td>\n",
       "      <td>powerful</td>\n",
       "    </tr>\n",
       "  </tbody>\n",
       "</table>\n",
       "</div>"
      ],
      "text/plain": [
       "topic_theme programmed features        door      broke     size  \\\n",
       "Word 0                     time        door     lasted    price   \n",
       "Word 1                  popcorn        open      month    large   \n",
       "Word 2                   button       latch    working      fit   \n",
       "Word 3                  cooking       close   warranty     size   \n",
       "Word 4                  setting  door latch    service      big   \n",
       "Word 5                   minute        push     repair    space   \n",
       "Word 6                      bag      button       died  counter   \n",
       "Word 7                     used   door open        new     need   \n",
       "Word 8                   second     problem      model  kitchen   \n",
       "Word 9                     long        hard  purchased   needed   \n",
       "\n",
       "topic_theme          power programmed features cooks evenly  \n",
       "Word 0               power              sensor         cook  \n",
       "Word 1               level              reheat         food  \n",
       "Word 2         power level       sensor reheat         heat  \n",
       "Word 3                watt                food       evenly  \n",
       "Word 4            inverter             defrost         fast  \n",
       "Word 5                1250            function      quickly  \n",
       "Word 6           1250 watt              button    cook food  \n",
       "Word 7             setting     reheat function    cook fast  \n",
       "Word 8       power setting         sensor cook    heat food  \n",
       "Word 9          watt power                used     powerful  "
      ]
     },
     "execution_count": 191,
     "metadata": {},
     "output_type": "execute_result"
    }
   ],
   "source": [
    "topic_words_df1"
   ]
  },
  {
   "cell_type": "code",
   "execution_count": 105,
   "metadata": {},
   "outputs": [],
   "source": [
    "review_df_columns1 = (['review_body'] + topic_labels1)\n",
    "# review_df_columns2 = (['review_body'] + topic_labels2)\n",
    "# review_df_columns3 = (['review_body'] + topic_labels3)"
   ]
  },
  {
   "cell_type": "code",
   "execution_count": 106,
   "metadata": {},
   "outputs": [],
   "source": [
    "review_df1 = pd.concat([df1, top_df1.reindex(df1.index)], axis=1)[review_df_columns1]\n",
    "# review_df2 = pd.concat([df2, top_df2.reindex(df2.index)], axis=1)[review_df_columns2]\n",
    "# review_df3 = pd.concat([df3, top_df3.reindex(df3.index)], axis=1)[review_df_columns3]"
   ]
  },
  {
   "cell_type": "code",
   "execution_count": 94,
   "metadata": {},
   "outputs": [],
   "source": [
    "def review_checker(review_df, num_samples):\n",
    "    review_df = review_df\n",
    "    review_index = []\n",
    "    for _ in range(num_samples):\n",
    "        review_index.append(random.randint(0, len(review_df)))\n",
    "        \n",
    "    for _ in review_index:\n",
    "        print('Review ' + str(_))\n",
    "        print(' ')\n",
    "        print(review_df.review_body[_])\n",
    "        print(' ')\n",
    "        print(review_df.loc[_][1:])\n",
    "        print(' ')\n",
    "        print('___________________________________________________')\n",
    "        print(' ')\n",
    "    "
   ]
  },
  {
   "cell_type": "code",
   "execution_count": 156,
   "metadata": {},
   "outputs": [
    {
     "data": {
      "text/plain": [
       "1848"
      ]
     },
     "execution_count": 156,
     "metadata": {},
     "output_type": "execute_result"
    }
   ],
   "source": [
    "len(W1)"
   ]
  },
  {
   "cell_type": "code",
   "execution_count": 219,
   "metadata": {},
   "outputs": [
    {
     "data": {
      "text/plain": [
       "array([  14, 1018,  324, 1340,   31, 1113, 1540,  601,  333,  577,  706,\n",
       "        554,  279, 1608,  211,  402,  133, 1426,   60, 1280])"
      ]
     },
     "execution_count": 219,
     "metadata": {},
     "output_type": "execute_result"
    }
   ],
   "source": [
    "W1[:,1].argsort()[-20:]"
   ]
  },
  {
   "cell_type": "code",
   "execution_count": 189,
   "metadata": {},
   "outputs": [
    {
     "data": {
      "text/plain": [
       "array([0, 4, 5, 6, 2, 1, 3])"
      ]
     },
     "execution_count": 189,
     "metadata": {},
     "output_type": "execute_result"
    }
   ],
   "source": [
    "H1[:,0].argsort()[:]"
   ]
  },
  {
   "cell_type": "code",
   "execution_count": 221,
   "metadata": {},
   "outputs": [
    {
     "data": {
      "text/plain": [
       "\"Great Microwave.<br />It does what it supposed, but we are still learning the heating times and heat power levels because it's different then our old one.\""
      ]
     },
     "execution_count": 221,
     "metadata": {},
     "output_type": "execute_result"
    }
   ],
   "source": [
    "df1.review_body[1018]"
   ]
  },
  {
   "cell_type": "code",
   "execution_count": 269,
   "metadata": {},
   "outputs": [
    {
     "data": {
      "text/plain": [
       "array([\"'0'\", 'money', 'monday', 'moisture', 'modest', 'modern',\n",
       "       'moderate', 'model wanted', 'model timer', 'model time',\n",
       "       'model smaller', 'money built', 'model size', 'model problem',\n",
       "       'model previous', 'model pretty', 'model number heard',\n",
       "       'model number', 'model met expectation', 'model met',\n",
       "       'model magnetron', 'model longer', 'model lasted', 'model similar',\n",
       "       'money fit', 'money paid', \"money's\", 'month latch', 'month heavy',\n",
       "       'month heating', 'month heat', 'month having', 'month gave',\n",
       "       'month fine', 'month disappointed', 'month died', 'month decided',\n",
       "       'month date', 'month cook', 'month complaint', 'month called',\n",
       "       'month buyer beware', 'month buyer', 'month basic',\n",
       "       'month ago started', 'month ago push', 'month', 'monster',\n",
       "       'monitor', \"money's worth\", 'model knock', 'month later',\n",
       "       'model inverter technology', 'model h765bf', 'minute time',\n",
       "       'minute thirty second', 'minute thirty', 'minute setting',\n",
       "       'minute right', 'minute quick', 'minute protected extended',\n",
       "       'minute protected', 'minute press', 'minute instead',\n",
       "       'minute timer', 'minute heat', 'minute display', 'minute big',\n",
       "       'minute add', 'minute 100', 'minute', 'minus press',\n",
       "       'minor inconvenience', 'minor annoyance', 'minor', 'minimum',\n",
       "       'minute function', 'minute timer addition', 'miracle',\n",
       "       'miraculously', 'model h765 notch', 'model h765', 'model fit',\n",
       "       'model finally', 'model especially sensor', 'model especially',\n",
       "       'model door latch', 'model door', 'model case', 'model based',\n",
       "       'model actually color', 'mode', 'mixed', 'mix reheat second',\n",
       "       'mix reheat', 'mix', 'mistaken', 'mistake', 'missing',\n",
       "       'miss having'], dtype='<U32')"
      ]
     },
     "execution_count": 269,
     "metadata": {},
     "output_type": "execute_result"
    }
   ],
   "source": [
    "np.array(vectorizer.get_feature_names()).take(nmf1.components_[6].argsort()[:])[:100]"
   ]
  },
  {
   "cell_type": "code",
   "execution_count": 161,
   "metadata": {},
   "outputs": [
    {
     "name": "stdout",
     "output_type": "stream",
     "text": [
      "123\n"
     ]
    }
   ],
   "source": [
    "\n",
    "for idx, i in enumerate(W1[:,2].argsort()[:]):\n",
    "    if i == 368:\n",
    "        print(idx)"
   ]
  },
  {
   "cell_type": "code",
   "execution_count": null,
   "metadata": {},
   "outputs": [],
   "source": []
  },
  {
   "cell_type": "code",
   "execution_count": 216,
   "metadata": {},
   "outputs": [
    {
     "data": {
      "text/plain": [
       "'Shipped like the speed of light! Works great, very attractive in white, too. Yep, pretty good deal, too. Okey dokey.'"
      ]
     },
     "execution_count": 216,
     "metadata": {},
     "output_type": "execute_result"
    }
   ],
   "source": []
  },
  {
   "cell_type": "code",
   "execution_count": 159,
   "metadata": {},
   "outputs": [
    {
     "data": {
      "text/plain": [
       "programmed features    0.00015\n",
       "door                   0.96719\n",
       "broke                  0.00015\n",
       "size                   0.03197\n",
       "power                  0.00015\n",
       "programmed features    0.00015\n",
       "cooks evenly           0.00015\n",
       "Name: 368, dtype: object"
      ]
     },
     "execution_count": 159,
     "metadata": {},
     "output_type": "execute_result"
    }
   ],
   "source": [
    "review_df1.loc[368][1:]"
   ]
  },
  {
   "cell_type": "code",
   "execution_count": 107,
   "metadata": {},
   "outputs": [
    {
     "name": "stdout",
     "output_type": "stream",
     "text": [
      "Review 368\n",
      " \n",
      "I had a Panasonic Genius as my first micro wave oven and it lasted over 20 years compared to a Convection Sharp that need to be<br />repaired by the 2nd year and 3 times after that.  I have only had it a few weeks, but I already love it.  Would recommend it to everyone.  I am also very impressed with Amazon.com.  They do a<br />tremendous job in getting out the orders and exactly when they say they will deliver.  I am very<br />impressed.\n",
      " \n",
      "programmed features    0.00015\n",
      "door                   0.96719\n",
      "broke                  0.00015\n",
      "size                   0.03197\n",
      "power                  0.00015\n",
      "programmed features    0.00015\n",
      "cooks evenly           0.00015\n",
      "Name: 368, dtype: object\n",
      " \n",
      "___________________________________________________\n",
      " \n",
      "Review 218\n",
      " \n",
      "The microwave has gotten 100% approval from the people that are using it.\n",
      " \n",
      "programmed features    0.00101\n",
      "door                   0.00017\n",
      "broke                    9e-05\n",
      "size                   0.00076\n",
      "power                  0.00011\n",
      "programmed features    0.00101\n",
      "cooks evenly           0.99769\n",
      "Name: 218, dtype: object\n",
      " \n",
      "___________________________________________________\n",
      " \n",
      "Review 395\n",
      " \n",
      "This was a great buy.  The price was far lower than the local appliance chains.  And the cooking is very even.  This is a powerful oven and it has worked very well.  Simple controls.  The wide inside is great.\n",
      " \n",
      "programmed features          0\n",
      "door                         0\n",
      "broke                        0\n",
      "size                   0.99999\n",
      "power                        0\n",
      "programmed features          0\n",
      "cooks evenly                 0\n",
      "Name: 395, dtype: object\n",
      " \n",
      "___________________________________________________\n",
      " \n",
      "Review 1272\n",
      " \n",
      "Decided on this microwave because of the reviews.  Yes, it does cook baked potatoes almost as if you were baking them in the oven!  Love the sensor reheat...food gets real hot but not 'overcooked'.<br />I'd give it 5 stars, except I wish it were just a little taller inside.  We can't get a few things in that we used to put in our over-the-range microwave.\n",
      " \n",
      "programmed features    0.00057\n",
      "door                   0.00057\n",
      "broke                  0.92474\n",
      "size                   0.00426\n",
      "power                  0.06873\n",
      "programmed features    0.00057\n",
      "cooks evenly           0.00057\n",
      "Name: 1272, dtype: object\n",
      " \n",
      "___________________________________________________\n",
      " \n",
      "Review 1208\n",
      " \n",
      "Happiness is a beautiful new microwave. I love my new microwave. It is used multiple time each day. This Panasonic microwave is large and just exactly what I wanted.\n",
      " \n",
      "programmed features          0\n",
      "door                         0\n",
      "broke                        0\n",
      "size                   0.00837\n",
      "power                        0\n",
      "programmed features          0\n",
      "cooks evenly           0.99162\n",
      "Name: 1208, dtype: object\n",
      " \n",
      "___________________________________________________\n",
      " \n"
     ]
    }
   ],
   "source": [
    "review_checker(5)"
   ]
  },
  {
   "cell_type": "code",
   "execution_count": null,
   "metadata": {},
   "outputs": [],
   "source": []
  }
 ],
 "metadata": {
  "kernelspec": {
   "display_name": "Python 3",
   "language": "python",
   "name": "python3"
  },
  "language_info": {
   "codemirror_mode": {
    "name": "ipython",
    "version": 3
   },
   "file_extension": ".py",
   "mimetype": "text/x-python",
   "name": "python",
   "nbconvert_exporter": "python",
   "pygments_lexer": "ipython3",
   "version": "3.7.6"
  }
 },
 "nbformat": 4,
 "nbformat_minor": 4
}
